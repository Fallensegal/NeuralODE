{
 "cells": [
  {
   "cell_type": "code",
   "execution_count": 4,
   "metadata": {},
   "outputs": [],
   "source": [
    "import torch\n",
    "import torch.nn as NN\n",
    "import torch.optim as Optim\n",
    "import torchvision\n",
    "import torchvision.transforms as transforms\n",
    "from torchdiffeq import odeint_adjoint\n",
    "from NeuralModel import *"
   ]
  },
  {
   "cell_type": "code",
   "execution_count": 5,
   "metadata": {},
   "outputs": [],
   "source": [
    "def trainModel(Model, dataLoader, lossFunction, optimizer, device):\n",
    "    Model.train()\n",
    "    runningLoss = 0.0\n",
    "    Correct = 0\n",
    "    Total = 0\n",
    "\n",
    "    for i, (inputs,labels) in enumerate(dataLoader):\n",
    "        inputs, labels = inputs.to(device), labels.to(device)\n",
    "        optimizer.zero_grad()\n",
    "        \n",
    "        outputs = Model(inputs)\n",
    "        loss = lossFunction(outputs, labels)\n",
    "        loss.backward()\n",
    "        optimizer.step()\n",
    "\n",
    "        # Loss Statistics\n",
    "        runningLoss += loss.item()\n",
    "        _, predicted = torch.max(outputs.data, 1)\n",
    "        Total += labels.size(0)\n",
    "        Correct += (predicted == labels).sum().item()\n",
    "\n",
    "        avgLoss = runningLoss / (i+1)\n",
    "        avgAcc = (Correct / Total) * 100\n",
    "    \n",
    "    return avgLoss, avgAcc\n",
    "\n",
    "def testModel(Model, dataLoader, lossFunction, device):\n",
    "    Model.eval()\n",
    "    runningLoss = 0.0\n",
    "    Correct = 0\n",
    "    Total = 0\n",
    "\n",
    "    with torch.no_grad():\n",
    "        for i, (inputs, labels) in enumerate(dataLoader):\n",
    "            inputs, labels = inputs.to(device), labels.to(device)\n",
    "\n",
    "            outputs = Model(inputs)\n",
    "            loss = lossFunction(outputs, labels)\n",
    "\n",
    "            runningLoss += loss.item()\n",
    "            _, predicted = torch.max(outputs.data, 1)\n",
    "            Total += labels.size(0)\n",
    "            Correct += predicted.eq(labels).sum().item()\n",
    "    \n",
    "    avgLoss = runningLoss / (i + 1)\n",
    "    avgAcc = (Correct / Total) * 100\n",
    "\n",
    "    return avgLoss, avgAcc"
   ]
  },
  {
   "cell_type": "code",
   "execution_count": 6,
   "metadata": {},
   "outputs": [],
   "source": [
    "# Load the MNIST dataset\n",
    "transform = transforms.Compose([transforms.Resize((28,28)), transforms.ToTensor(), transforms.Normalize((0.1307,), (0.3081,))])\n",
    "trainSet = torchvision.datasets.MNIST(root='./data', train=True, download=True, transform=transform)\n",
    "trainLoader = torch.utils.data.DataLoader(trainSet, batch_size=64, shuffle=True, num_workers=4)\n",
    "testSet = torchvision.datasets.MNIST(root='./data', train=False, download=True, transform=transform)\n",
    "testLoader = torch.utils.data.DataLoader(testSet, batch_size=64, shuffle=False, num_workers=4)\n",
    "\n",
    "# Initialize the NeuralODE model\n",
    "device = torch.device(\"cuda\" if torch.cuda.is_available() else \"cpu\")\n",
    "\n",
    "# Load Model\n",
    "function = ODE_Function(64)\n",
    "ODE = NeuralODE(function)\n",
    "NeuralMNIST_Model = NeuralMNISTClassifier(ODE).to(device)\n",
    "\n",
    "lossFunction = NN.CrossEntropyLoss()\n",
    "optimizer = Optim.Adam(NeuralMNIST_Model.parameters())"
   ]
  }
 ],
 "metadata": {
  "kernelspec": {
   "display_name": "Python 3",
   "language": "python",
   "name": "python3"
  },
  "language_info": {
   "codemirror_mode": {
    "name": "ipython",
    "version": 3
   },
   "file_extension": ".py",
   "mimetype": "text/x-python",
   "name": "python",
   "nbconvert_exporter": "python",
   "pygments_lexer": "ipython3",
   "version": "3.10.6"
  },
  "orig_nbformat": 4
 },
 "nbformat": 4,
 "nbformat_minor": 2
}
